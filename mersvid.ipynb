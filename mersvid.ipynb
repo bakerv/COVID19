{
 "cells": [
  {
   "cell_type": "code",
   "execution_count": 1,
   "metadata": {},
   "outputs": [
    {
     "name": "stdout",
     "output_type": "stream",
     "text": [
      "Requirement already satisfied: census in c:\\users\\ramir\\anaconda3\\lib\\site-packages (0.8.17)\n",
      "Requirement already satisfied: requests>=1.1.0 in c:\\users\\ramir\\anaconda3\\lib\\site-packages (from census) (2.24.0)\n",
      "Requirement already satisfied: chardet<4,>=3.0.2 in c:\\users\\ramir\\anaconda3\\lib\\site-packages (from requests>=1.1.0->census) (3.0.4)\n",
      "Requirement already satisfied: certifi>=2017.4.17 in c:\\users\\ramir\\anaconda3\\lib\\site-packages (from requests>=1.1.0->census) (2020.6.20)\n",
      "Requirement already satisfied: idna<3,>=2.5 in c:\\users\\ramir\\anaconda3\\lib\\site-packages (from requests>=1.1.0->census) (2.10)\n",
      "Requirement already satisfied: urllib3!=1.25.0,!=1.25.1,<1.26,>=1.21.1 in c:\\users\\ramir\\anaconda3\\lib\\site-packages (from requests>=1.1.0->census) (1.25.11)\n"
     ]
    }
   ],
   "source": [
    "!pip install census"
   ]
  },
  {
   "cell_type": "code",
   "execution_count": 2,
   "metadata": {},
   "outputs": [],
   "source": [
    "#Dependencies\n",
    "import numpy as np\n",
    "import pandas as pd\n",
    "import matplotlib.pyplot\n",
    "import requests\n",
    "from census import Census\n",
    "import json\n",
    "\n",
    "#Census API Key\n",
    "api_key = \"148b3af77c97878b7d780e5ad789963d1c0b60cf\"\n",
    "    \n",
    "c = Census(api_key, year = 2019)"
   ]
  },
  {
   "cell_type": "code",
   "execution_count": 3,
   "metadata": {},
   "outputs": [
    {
     "data": {
      "text/html": [
       "<div>\n",
       "<style scoped>\n",
       "    .dataframe tbody tr th:only-of-type {\n",
       "        vertical-align: middle;\n",
       "    }\n",
       "\n",
       "    .dataframe tbody tr th {\n",
       "        vertical-align: top;\n",
       "    }\n",
       "\n",
       "    .dataframe thead th {\n",
       "        text-align: right;\n",
       "    }\n",
       "</style>\n",
       "<table border=\"1\" class=\"dataframe\">\n",
       "  <thead>\n",
       "    <tr style=\"text-align: right;\">\n",
       "      <th></th>\n",
       "      <th>OBJECTID</th>\n",
       "      <th>ZIP_CODE</th>\n",
       "      <th>populationtotals_totpop_cy</th>\n",
       "      <th>Positive</th>\n",
       "      <th>CasesP100000</th>\n",
       "      <th>ZipInt</th>\n",
       "      <th>ActiveCases</th>\n",
       "      <th>ActiveCaseRate</th>\n",
       "      <th>SHAPE_Length</th>\n",
       "      <th>SHAPE_Area</th>\n",
       "    </tr>\n",
       "  </thead>\n",
       "  <tbody>\n",
       "    <tr>\n",
       "      <th>0</th>\n",
       "      <td>1</td>\n",
       "      <td>78002</td>\n",
       "      <td>9061</td>\n",
       "      <td>1063</td>\n",
       "      <td>11816.362830</td>\n",
       "      <td>78002</td>\n",
       "      <td>6</td>\n",
       "      <td>66.696309</td>\n",
       "      <td>0.427542</td>\n",
       "      <td>0.009546</td>\n",
       "    </tr>\n",
       "    <tr>\n",
       "      <th>1</th>\n",
       "      <td>2</td>\n",
       "      <td>78006</td>\n",
       "      <td>5243</td>\n",
       "      <td>278</td>\n",
       "      <td>4851.657941</td>\n",
       "      <td>78006</td>\n",
       "      <td>3</td>\n",
       "      <td>52.356021</td>\n",
       "      <td>0.552725</td>\n",
       "      <td>0.005416</td>\n",
       "    </tr>\n",
       "    <tr>\n",
       "      <th>2</th>\n",
       "      <td>4</td>\n",
       "      <td>78015</td>\n",
       "      <td>12254</td>\n",
       "      <td>664</td>\n",
       "      <td>5167.315175</td>\n",
       "      <td>78015</td>\n",
       "      <td>7</td>\n",
       "      <td>54.474708</td>\n",
       "      <td>0.278955</td>\n",
       "      <td>0.002312</td>\n",
       "    </tr>\n",
       "    <tr>\n",
       "      <th>3</th>\n",
       "      <td>5</td>\n",
       "      <td>78023</td>\n",
       "      <td>29569</td>\n",
       "      <td>1947</td>\n",
       "      <td>6588.163638</td>\n",
       "      <td>78023</td>\n",
       "      <td>15</td>\n",
       "      <td>50.756268</td>\n",
       "      <td>0.886455</td>\n",
       "      <td>0.017922</td>\n",
       "    </tr>\n",
       "    <tr>\n",
       "      <th>4</th>\n",
       "      <td>7</td>\n",
       "      <td>78052</td>\n",
       "      <td>699</td>\n",
       "      <td>39</td>\n",
       "      <td>5555.555556</td>\n",
       "      <td>78052</td>\n",
       "      <td>3</td>\n",
       "      <td>427.350427</td>\n",
       "      <td>0.260085</td>\n",
       "      <td>0.001147</td>\n",
       "    </tr>\n",
       "  </tbody>\n",
       "</table>\n",
       "</div>"
      ],
      "text/plain": [
       "   OBJECTID  ZIP_CODE  populationtotals_totpop_cy  Positive  CasesP100000  \\\n",
       "0         1     78002                        9061      1063  11816.362830   \n",
       "1         2     78006                        5243       278   4851.657941   \n",
       "2         4     78015                       12254       664   5167.315175   \n",
       "3         5     78023                       29569      1947   6588.163638   \n",
       "4         7     78052                         699        39   5555.555556   \n",
       "\n",
       "   ZipInt  ActiveCases  ActiveCaseRate  SHAPE_Length  SHAPE_Area  \n",
       "0   78002            6       66.696309      0.427542    0.009546  \n",
       "1   78006            3       52.356021      0.552725    0.005416  \n",
       "2   78015            7       54.474708      0.278955    0.002312  \n",
       "3   78023           15       50.756268      0.886455    0.017922  \n",
       "4   78052            3      427.350427      0.260085    0.001147  "
      ]
     },
     "execution_count": 3,
     "metadata": {},
     "output_type": "execute_result"
    }
   ],
   "source": [
    "#Load in csv\n",
    "used_string = r\"C:\\Users\\ramir\\Documents\\COVID19\\COVID19\\Bexar_County_COVID-19_Data_by_Zip_Code.csv\"\n",
    "\n",
    "bexar_df = pd.read_csv(used_string)\n",
    "bexar_df.head()"
   ]
  },
  {
   "cell_type": "code",
   "execution_count": 5,
   "metadata": {},
   "outputs": [
    {
     "ename": "SyntaxError",
     "evalue": "invalid syntax (<ipython-input-5-b060880c85e9>, line 47)",
     "output_type": "error",
     "traceback": [
      "\u001b[1;36m  File \u001b[1;32m\"<ipython-input-5-b060880c85e9>\"\u001b[1;36m, line \u001b[1;32m47\u001b[0m\n\u001b[1;33m    \"Female : 22 to 24 Years\", \"Male : 25 to 29 Years\", \"B01001_035E\" : \"Female : 25 to 29 Years\", \"Male : 30 to 34 Years\",\u001b[0m\n\u001b[1;37m                                                                      ^\u001b[0m\n\u001b[1;31mSyntaxError\u001b[0m\u001b[1;31m:\u001b[0m invalid syntax\n"
     ]
    }
   ],
   "source": [
    "#Load in API data\n",
    "census_data = c.acs5.get((\"NAME\", \"B01001_001E\", \"B01001_002E\", \"B01001_003E\", \"B01001_004E\", \"B01001_005E\", \"B01001_006E\",\n",
    "                          \"B01001_007E\", \"B01001_008E\", \"B01001_009E\", \"B01001_010E\", \"B01001_011E\", \"B01001_012E\",\n",
    "                          \"B01001_013E\", \"B01001_014E\", \"B01001_015E\", \"B01001_016E\", \"B01001_017E\", \"B01001_018E\",\n",
    "                          \"B01001_019E\", \"B01001_020E\", \"B01001_021E\", \"B01001_022E\", \"B01001_023E\", \"B01001_024E\",\n",
    "                          \"B01001_025E\", \"B01001_026E\", \"B01001_027E\", \"B01001_028E\", \"B01001_029E\", \"B01001_030E\",\n",
    "                          \"B01001_031E\", \"B01001_032E\", \"B01001_033E\", \"B01001_034E\", \"B01001_035E\", \"B01001_036E\",\n",
    "                          \"B01001_037E\", \"B01001_038E\", \"B01001_039E\", \"B01001_040E\", \"B01001_041E\", \"B01001_042E\",\n",
    "                          \"B01001_043E\", \"B01001_044E\", \"B01001_045E\", \"B01001_046E\", \"B01001_047E\", \"B01001_048E\",\n",
    "                          \"B01001_049E\"), {\"for\":\"zip code tabulation area:*\"})\n",
    "\n",
    "#Convert to dataframe\n",
    "census_df = pd.DataFrame(census_data)\n",
    "\n",
    "#Column Reordering\n",
    "census_df = census_df.rename(columns = {\"B01001_001E\" : \"Total\", \"B01001_002E\" : \"Total Male\",\n",
    "                                        \"B01001_026E\" : \"Total Female\", \"B01001_003E\" : \"Male : Under 5 Years\",\n",
    "                                        \"B01001_027E\" : \"Female : Under 5 Years\", \"B01001_004E\" : \"Male : 5 to 9 Years\",\n",
    "                                        \"B01001_028E\" : \"Female : 5 to 9 Years\", \"B01001_005E\" : \"Male : 10 to 14 Years\",\n",
    "                                        \"B01001_029E\" : \"Female : 10 to 14 Years\", \"B01001_006E\" : \"Male : 15 to 17 Years\",\n",
    "                                        \"B01001_030E\" : \"Female : 15 to 17 Years\", \"B01001_007E\" : \"Male : 18 and 19 Years\",\n",
    "                                        \"B01001_031E\" : \"Female : 18 and 19 Years\", \"B01001_008E\" : \"Male : 20 Years\",\n",
    "                                        \"B01001_032E\" : \"Female : 20 Years\", \"B01001_009E\" : \"Male : 21 Years\",\n",
    "                                        \"B01001_033E\" : \"Female : 21 Years\", \"B01001_010E\" : \"Male : 22 to 24 Years\",\n",
    "                                        \"B01001_034E\" : \"Female : 22 to 24 Years\", \"B01001_011E\" : \"Male : 25 to 29 Years\",\n",
    "                                        \"B01001_035E\" : \"Female : 25 to 29 Years\", \"B01001_012E\" : \"Male : 30 to 34 Years\",\n",
    "                                        \"B01001_036E\" : \"Female : 30 to 34 Years\", \"B01001_013E\" : \"Male : 35 to 39 Years\",\n",
    "                                        \"B01001_037E\" : \"Female : 35 to 39 Years\", \"B01001_014E\" : \"Male : 40 to 44 Years\",\n",
    "                                        \"B01001_038E\" : \"Female : 40 to 44 Years\", \"B01001_015E\" : \"Male : 45 to 49 Years\",\n",
    "                                        \"B01001_039E\" : \"Female : 45 to 49 Years\", \"B01001_016E\" : \"Male : 50 to 54 Years\",\n",
    "                                        \"B01001_040E\" : \"Female : 50 to 54 Years\", \"B01001_017E\" : \"Male : 55 to 59 Years\",\n",
    "                                        \"B01001_041E\" : \"Female : 55 to 59 Years\", \"B01001_018E\" : \"Male : 60 and 61 Years\",\n",
    "                                        \"B01001_042E\" : \"Female : 60 to 61 Years\", \"B01001_019E\" : \"Male : 62 to 64 Years\",\n",
    "                                        \"B01001_043E\" : \"Female : 62 to 64 Years\", \"B01001_020E\" : \"Male : 65 and 66 Years\",\n",
    "                                        \"B01001_044E\" : \"Female : 65 and 66 Years\", \"B01001_021E\" : \"Male : 67 to 69 Years\",\n",
    "                                        \"B01001_045E\" : \"Female : 67 to 69 Years\", \"B01001_022E\" : \"Male : 70 to 74 Years\",\n",
    "                                        \"B01001_046E\" : \"Female : 70 to 74 Years\", \"B01001_023E\" : \"Male : 75 to 79 Years\",\n",
    "                                        \"B01001_047E\" : \"Female : 75 to 79 Years\", \"B01001_024E\" : \"Male : 80 to 84 Years\",\n",
    "                                        \"B01001_048E\" : \"Female : 80 to 84 Years\", \"B01001_025E\" : \"Male : 85 Years and Over\",\n",
    "                                        \"B01001_049E\" : \"Female : 85 Years and Over\", \"NAME\": \"Name\",\n",
    "                                        \"zip code tabulation area\" : \"ZIP_CODE\"})\n",
    "\n",
    "# #Final Dataframe\n",
    "census_df = census_df[[\"ZIP_CODE\", \"Total\", \"Total Male\", \"Total Female\", \"Male : Under 5 Years\", \"Female : 5 to 9 Years\",\n",
    "                      \"Male : 10 to 14 Years\", \"Female : 10 to 14 Years\", \"Male : 15 to 17 Years\", \"Female : 18 and 19 Years\",\n",
    "                      \"Male : 20 Years\", \"Female : 20 Years\", \"Male : 21 Years\", \"Female : 21 Years\", \"Male : 22 to 24 Years\",\n",
    "                      \"Female : 22 to 24 Years\", \"Male : 25 to 29 Years\", \"B01001_035E\" : \"Female : 25 to 29 Years\", \"Male : 30 to 34 Years\",\n",
    "                      \"Female : 30 to 34 Years\", \"Male : 35 to 39 Years\",]]\n",
    "\n",
    "#Visualize\n",
    "pd.DataFrame(census_df)\n"
   ]
  },
  {
   "cell_type": "code",
   "execution_count": null,
   "metadata": {},
   "outputs": [],
   "source": [
    "census_df[\"ZIP_CODE\"] = census_df[\"ZIP_CODE\"].astype(str).astype(int)"
   ]
  },
  {
   "cell_type": "code",
   "execution_count": null,
   "metadata": {},
   "outputs": [],
   "source": [
    "merge_df = pd.merge(bexar_df, census_df, on = \"ZIP_CODE\", how = \"left\")\n",
    "merge_df"
   ]
  },
  {
   "cell_type": "code",
   "execution_count": null,
   "metadata": {},
   "outputs": [],
   "source": [
    "# age_list =[\"B01001_001E\", \"B01001_002E\", \"B01001_003E\", \"B01001_004E\", \"B01001_005E\", \"B01001_006E\",\n",
    "#             \"B01001_007E\", \"B01001_008E\", \"B01001_009E\", \"B01001_010E\", \"B01001_011E\", \"B01001_012E\",\n",
    "#             \"B01001_013E\", \"B01001_014E\", \"B01001_015E\", \"B01001_016E\", \"B01001_017E\", \"B01001_018E\",\n",
    "#             \"B01001_019E\", \"B01001_020E\", \"B01001_021E\", \"B01001_022E\", \"B01001_023E\", \"B01001_024E\",\n",
    "#             \"B01001_025E\", \"B01001_026E\", \"B01001_027E\", \"B01001_028E\", \"B01001_029E\", \"B01001_030E\",\n",
    "#             \"B01001_031E\", \"B01001_032E\", \"B01001_033E\", \"B01001_034E\", \"B01001_035E\", \"B01001_036E\",\n",
    "#             \"B01001_037E\", \"B01001_038E\", \"B01001_039E\", \"B01001_040E\", \"B01001_041E\", \"B01001_042E\",\n",
    "#             \"B01001_043E\", \"B01001_044E\", \"B01001_045E\", \"B01001_046E\", \"B01001_047E\", \"B01001_048E\",\n",
    "#             \"B01001_049E\"]\n",
    "# for element in age_list:\n",
    "#     hispanicpercents.plot.scatter(element,\"CasesP100000\", figsize = (12,8),title=f'Correlation Between {element} and Cases Per 100000')\n",
    "#     correlation = st.pearsonr(hispanicpercents[element],\n",
    "#                                  hispanicpercents[\"CasesP100000\"])\n",
    "#     plt.annotate(correlation[0],xy=(0,0.95),fontsize = 18,xycoords='axes fraction')"
   ]
  },
  {
   "cell_type": "code",
   "execution_count": null,
   "metadata": {},
   "outputs": [],
   "source": [
    "x_values = \n"
   ]
  }
 ],
 "metadata": {
  "kernelspec": {
   "display_name": "Python 3",
   "language": "python",
   "name": "python3"
  },
  "language_info": {
   "codemirror_mode": {
    "name": "ipython",
    "version": 3
   },
   "file_extension": ".py",
   "mimetype": "text/x-python",
   "name": "python",
   "nbconvert_exporter": "python",
   "pygments_lexer": "ipython3",
   "version": "3.8.5"
  }
 },
 "nbformat": 4,
 "nbformat_minor": 4
}
