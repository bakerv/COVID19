{
 "cells": [
  {
   "cell_type": "code",
   "execution_count": 25,
   "metadata": {},
   "outputs": [
    {
     "name": "stdout",
     "output_type": "stream",
     "text": [
      "Requirement already satisfied: census in c:\\users\\court\\anaconda3\\lib\\site-packages (0.8.17)\n",
      "Requirement already satisfied: requests>=1.1.0 in c:\\users\\court\\anaconda3\\lib\\site-packages (from census) (2.24.0)\n",
      "Requirement already satisfied: certifi>=2017.4.17 in c:\\users\\court\\anaconda3\\lib\\site-packages (from requests>=1.1.0->census) (2020.6.20)\n",
      "Requirement already satisfied: idna<3,>=2.5 in c:\\users\\court\\anaconda3\\lib\\site-packages (from requests>=1.1.0->census) (2.10)\n",
      "Requirement already satisfied: urllib3!=1.25.0,!=1.25.1,<1.26,>=1.21.1 in c:\\users\\court\\anaconda3\\lib\\site-packages (from requests>=1.1.0->census) (1.25.11)\n",
      "Requirement already satisfied: chardet<4,>=3.0.2 in c:\\users\\court\\anaconda3\\lib\\site-packages (from requests>=1.1.0->census) (3.0.4)\n"
     ]
    }
   ],
   "source": [
    "!pip install census"
   ]
  },
  {
   "cell_type": "code",
   "execution_count": 2,
   "metadata": {},
   "outputs": [],
   "source": [
    "import numpy as np\n",
    "import pandas as pd\n",
    "import matplotlib.pyplot as plt\n",
    "import requests\n",
    "import json\n",
    "import scipy.stats as st\n",
    "\n",
    "from census import Census\n",
    "from config import api_key\n",
    "\n",
    "c = Census(api_key, year = 2019)"
   ]
  },
  {
   "cell_type": "code",
   "execution_count": 3,
   "metadata": {},
   "outputs": [
    {
     "data": {
      "text/html": [
       "<div>\n",
       "<style scoped>\n",
       "    .dataframe tbody tr th:only-of-type {\n",
       "        vertical-align: middle;\n",
       "    }\n",
       "\n",
       "    .dataframe tbody tr th {\n",
       "        vertical-align: top;\n",
       "    }\n",
       "\n",
       "    .dataframe thead th {\n",
       "        text-align: right;\n",
       "    }\n",
       "</style>\n",
       "<table border=\"1\" class=\"dataframe\">\n",
       "  <thead>\n",
       "    <tr style=\"text-align: right;\">\n",
       "      <th></th>\n",
       "      <th>OBJECTID</th>\n",
       "      <th>ZIP_CODE</th>\n",
       "      <th>populationtotals_totpop_cy</th>\n",
       "      <th>Positive</th>\n",
       "      <th>CasesP100000</th>\n",
       "      <th>ZipInt</th>\n",
       "      <th>ActiveCases</th>\n",
       "      <th>ActiveCaseRate</th>\n",
       "      <th>SHAPE_Length</th>\n",
       "      <th>SHAPE_Area</th>\n",
       "    </tr>\n",
       "  </thead>\n",
       "  <tbody>\n",
       "    <tr>\n",
       "      <th>0</th>\n",
       "      <td>1</td>\n",
       "      <td>78002</td>\n",
       "      <td>9061</td>\n",
       "      <td>1063</td>\n",
       "      <td>11816.362830</td>\n",
       "      <td>78002</td>\n",
       "      <td>6</td>\n",
       "      <td>66.696309</td>\n",
       "      <td>0.427542</td>\n",
       "      <td>0.009546</td>\n",
       "    </tr>\n",
       "    <tr>\n",
       "      <th>1</th>\n",
       "      <td>2</td>\n",
       "      <td>78006</td>\n",
       "      <td>5243</td>\n",
       "      <td>278</td>\n",
       "      <td>4851.657941</td>\n",
       "      <td>78006</td>\n",
       "      <td>3</td>\n",
       "      <td>52.356021</td>\n",
       "      <td>0.552725</td>\n",
       "      <td>0.005416</td>\n",
       "    </tr>\n",
       "    <tr>\n",
       "      <th>2</th>\n",
       "      <td>4</td>\n",
       "      <td>78015</td>\n",
       "      <td>12254</td>\n",
       "      <td>664</td>\n",
       "      <td>5167.315175</td>\n",
       "      <td>78015</td>\n",
       "      <td>7</td>\n",
       "      <td>54.474708</td>\n",
       "      <td>0.278955</td>\n",
       "      <td>0.002312</td>\n",
       "    </tr>\n",
       "    <tr>\n",
       "      <th>3</th>\n",
       "      <td>5</td>\n",
       "      <td>78023</td>\n",
       "      <td>29569</td>\n",
       "      <td>1947</td>\n",
       "      <td>6588.163638</td>\n",
       "      <td>78023</td>\n",
       "      <td>15</td>\n",
       "      <td>50.756268</td>\n",
       "      <td>0.886455</td>\n",
       "      <td>0.017922</td>\n",
       "    </tr>\n",
       "    <tr>\n",
       "      <th>4</th>\n",
       "      <td>7</td>\n",
       "      <td>78052</td>\n",
       "      <td>699</td>\n",
       "      <td>39</td>\n",
       "      <td>5555.555556</td>\n",
       "      <td>78052</td>\n",
       "      <td>3</td>\n",
       "      <td>427.350427</td>\n",
       "      <td>0.260085</td>\n",
       "      <td>0.001147</td>\n",
       "    </tr>\n",
       "  </tbody>\n",
       "</table>\n",
       "</div>"
      ],
      "text/plain": [
       "   OBJECTID  ZIP_CODE  populationtotals_totpop_cy  Positive  CasesP100000  \\\n",
       "0         1     78002                        9061      1063  11816.362830   \n",
       "1         2     78006                        5243       278   4851.657941   \n",
       "2         4     78015                       12254       664   5167.315175   \n",
       "3         5     78023                       29569      1947   6588.163638   \n",
       "4         7     78052                         699        39   5555.555556   \n",
       "\n",
       "   ZipInt  ActiveCases  ActiveCaseRate  SHAPE_Length  SHAPE_Area  \n",
       "0   78002            6       66.696309      0.427542    0.009546  \n",
       "1   78006            3       52.356021      0.552725    0.005416  \n",
       "2   78015            7       54.474708      0.278955    0.002312  \n",
       "3   78023           15       50.756268      0.886455    0.017922  \n",
       "4   78052            3      427.350427      0.260085    0.001147  "
      ]
     },
     "execution_count": 3,
     "metadata": {},
     "output_type": "execute_result"
    }
   ],
   "source": [
    "#load in CSV\n",
    "used_string = \"Bexar_County_COVID-19_Data_by_Zip_code.csv\"\n",
    "\n",
    "bexar_df = pd.read_csv(used_string)\n",
    "bexar_df.head()"
   ]
  },
  {
   "cell_type": "code",
   "execution_count": 4,
   "metadata": {},
   "outputs": [
    {
     "name": "stdout",
     "output_type": "stream",
     "text": [
      "33120\n"
     ]
    },
    {
     "data": {
      "text/html": [
       "<div>\n",
       "<style scoped>\n",
       "    .dataframe tbody tr th:only-of-type {\n",
       "        vertical-align: middle;\n",
       "    }\n",
       "\n",
       "    .dataframe tbody tr th {\n",
       "        vertical-align: top;\n",
       "    }\n",
       "\n",
       "    .dataframe thead th {\n",
       "        text-align: right;\n",
       "    }\n",
       "</style>\n",
       "<table border=\"1\" class=\"dataframe\">\n",
       "  <thead>\n",
       "    <tr style=\"text-align: right;\">\n",
       "      <th></th>\n",
       "      <th>ZIP_CODE</th>\n",
       "      <th>Median Household Income</th>\n",
       "    </tr>\n",
       "  </thead>\n",
       "  <tbody>\n",
       "    <tr>\n",
       "      <th>0</th>\n",
       "      <td>00601</td>\n",
       "      <td>14361.0</td>\n",
       "    </tr>\n",
       "    <tr>\n",
       "      <th>1</th>\n",
       "      <td>00602</td>\n",
       "      <td>16807.0</td>\n",
       "    </tr>\n",
       "    <tr>\n",
       "      <th>2</th>\n",
       "      <td>00603</td>\n",
       "      <td>16049.0</td>\n",
       "    </tr>\n",
       "    <tr>\n",
       "      <th>3</th>\n",
       "      <td>00606</td>\n",
       "      <td>12119.0</td>\n",
       "    </tr>\n",
       "    <tr>\n",
       "      <th>4</th>\n",
       "      <td>00610</td>\n",
       "      <td>19898.0</td>\n",
       "    </tr>\n",
       "  </tbody>\n",
       "</table>\n",
       "</div>"
      ],
      "text/plain": [
       "  ZIP_CODE  Median Household Income\n",
       "0    00601                  14361.0\n",
       "1    00602                  16807.0\n",
       "2    00603                  16049.0\n",
       "3    00606                  12119.0\n",
       "4    00610                  19898.0"
      ]
     },
     "execution_count": 4,
     "metadata": {},
     "output_type": "execute_result"
    }
   ],
   "source": [
    "# Run Census Search to retrieve data on all zip codes (2013 ACS5 Census)\n",
    "# See: https://github.com/CommerceDataService/census-wrapper for library documentation\n",
    "# See: https://gist.github.com/afhaque/60558290d6efd892351c4b64e5c01e9b for labels\n",
    "census_data = c.acs5.get((\"NAME\", \"B19013_001E\"),  {'for': 'zip code tabulation area:*'})\n",
    "\n",
    "# Convert to DataFrame\n",
    "census_pd = pd.DataFrame(census_data)\n",
    "\n",
    "# Column Reordering\n",
    "census_pd = census_pd.rename(columns={\"B19013_001E\": \"Median Household Income\",\n",
    "                                      \"NAME\": \"Name\", \"zip code tabulation area\": \"ZIP_CODE\"})\n",
    "                                      \n",
    "# Final DataFrame\n",
    "census_pd = census_pd[[\"ZIP_CODE\", \"Median Household Income\"]]\n",
    "\n",
    "# Visualize\n",
    "print(len(census_pd))\n",
    "census_pd.head()"
   ]
  },
  {
   "cell_type": "code",
   "execution_count": 5,
   "metadata": {},
   "outputs": [],
   "source": [
    "census_pd[\"ZIP_CODE\"] = census_pd[\"ZIP_CODE\"].astype(str).astype(int)"
   ]
  },
  {
   "cell_type": "code",
   "execution_count": 6,
   "metadata": {},
   "outputs": [
    {
     "data": {
      "text/html": [
       "<div>\n",
       "<style scoped>\n",
       "    .dataframe tbody tr th:only-of-type {\n",
       "        vertical-align: middle;\n",
       "    }\n",
       "\n",
       "    .dataframe tbody tr th {\n",
       "        vertical-align: top;\n",
       "    }\n",
       "\n",
       "    .dataframe thead th {\n",
       "        text-align: right;\n",
       "    }\n",
       "</style>\n",
       "<table border=\"1\" class=\"dataframe\">\n",
       "  <thead>\n",
       "    <tr style=\"text-align: right;\">\n",
       "      <th></th>\n",
       "      <th>OBJECTID</th>\n",
       "      <th>ZIP_CODE</th>\n",
       "      <th>populationtotals_totpop_cy</th>\n",
       "      <th>Positive</th>\n",
       "      <th>CasesP100000</th>\n",
       "      <th>ZipInt</th>\n",
       "      <th>ActiveCases</th>\n",
       "      <th>ActiveCaseRate</th>\n",
       "      <th>SHAPE_Length</th>\n",
       "      <th>SHAPE_Area</th>\n",
       "      <th>Median Household Income</th>\n",
       "    </tr>\n",
       "  </thead>\n",
       "  <tbody>\n",
       "    <tr>\n",
       "      <th>0</th>\n",
       "      <td>1</td>\n",
       "      <td>78002</td>\n",
       "      <td>9061</td>\n",
       "      <td>1063</td>\n",
       "      <td>11816.362830</td>\n",
       "      <td>78002</td>\n",
       "      <td>6</td>\n",
       "      <td>66.696309</td>\n",
       "      <td>0.427542</td>\n",
       "      <td>0.009546</td>\n",
       "      <td>52598.0</td>\n",
       "    </tr>\n",
       "    <tr>\n",
       "      <th>1</th>\n",
       "      <td>2</td>\n",
       "      <td>78006</td>\n",
       "      <td>5243</td>\n",
       "      <td>278</td>\n",
       "      <td>4851.657941</td>\n",
       "      <td>78006</td>\n",
       "      <td>3</td>\n",
       "      <td>52.356021</td>\n",
       "      <td>0.552725</td>\n",
       "      <td>0.005416</td>\n",
       "      <td>85813.0</td>\n",
       "    </tr>\n",
       "    <tr>\n",
       "      <th>2</th>\n",
       "      <td>4</td>\n",
       "      <td>78015</td>\n",
       "      <td>12254</td>\n",
       "      <td>664</td>\n",
       "      <td>5167.315175</td>\n",
       "      <td>78015</td>\n",
       "      <td>7</td>\n",
       "      <td>54.474708</td>\n",
       "      <td>0.278955</td>\n",
       "      <td>0.002312</td>\n",
       "      <td>123182.0</td>\n",
       "    </tr>\n",
       "    <tr>\n",
       "      <th>3</th>\n",
       "      <td>5</td>\n",
       "      <td>78023</td>\n",
       "      <td>29569</td>\n",
       "      <td>1947</td>\n",
       "      <td>6588.163638</td>\n",
       "      <td>78023</td>\n",
       "      <td>15</td>\n",
       "      <td>50.756268</td>\n",
       "      <td>0.886455</td>\n",
       "      <td>0.017922</td>\n",
       "      <td>122967.0</td>\n",
       "    </tr>\n",
       "    <tr>\n",
       "      <th>4</th>\n",
       "      <td>7</td>\n",
       "      <td>78052</td>\n",
       "      <td>699</td>\n",
       "      <td>39</td>\n",
       "      <td>5555.555556</td>\n",
       "      <td>78052</td>\n",
       "      <td>3</td>\n",
       "      <td>427.350427</td>\n",
       "      <td>0.260085</td>\n",
       "      <td>0.001147</td>\n",
       "      <td>60880.0</td>\n",
       "    </tr>\n",
       "    <tr>\n",
       "      <th>...</th>\n",
       "      <td>...</td>\n",
       "      <td>...</td>\n",
       "      <td>...</td>\n",
       "      <td>...</td>\n",
       "      <td>...</td>\n",
       "      <td>...</td>\n",
       "      <td>...</td>\n",
       "      <td>...</td>\n",
       "      <td>...</td>\n",
       "      <td>...</td>\n",
       "      <td>...</td>\n",
       "    </tr>\n",
       "    <tr>\n",
       "      <th>71</th>\n",
       "      <td>82</td>\n",
       "      <td>78260</td>\n",
       "      <td>36255</td>\n",
       "      <td>2654</td>\n",
       "      <td>7180.735931</td>\n",
       "      <td>78260</td>\n",
       "      <td>17</td>\n",
       "      <td>45.995671</td>\n",
       "      <td>0.407156</td>\n",
       "      <td>0.005818</td>\n",
       "      <td>115500.0</td>\n",
       "    </tr>\n",
       "    <tr>\n",
       "      <th>72</th>\n",
       "      <td>83</td>\n",
       "      <td>78261</td>\n",
       "      <td>23828</td>\n",
       "      <td>1836</td>\n",
       "      <td>7514.427209</td>\n",
       "      <td>78261</td>\n",
       "      <td>13</td>\n",
       "      <td>53.206729</td>\n",
       "      <td>0.474302</td>\n",
       "      <td>0.006743</td>\n",
       "      <td>93853.0</td>\n",
       "    </tr>\n",
       "    <tr>\n",
       "      <th>73</th>\n",
       "      <td>84</td>\n",
       "      <td>78263</td>\n",
       "      <td>5228</td>\n",
       "      <td>428</td>\n",
       "      <td>8302.618817</td>\n",
       "      <td>78263</td>\n",
       "      <td>1</td>\n",
       "      <td>19.398642</td>\n",
       "      <td>0.680812</td>\n",
       "      <td>0.010405</td>\n",
       "      <td>78897.0</td>\n",
       "    </tr>\n",
       "    <tr>\n",
       "      <th>74</th>\n",
       "      <td>85</td>\n",
       "      <td>78264</td>\n",
       "      <td>13113</td>\n",
       "      <td>1439</td>\n",
       "      <td>10995.644530</td>\n",
       "      <td>78264</td>\n",
       "      <td>13</td>\n",
       "      <td>99.335218</td>\n",
       "      <td>0.726860</td>\n",
       "      <td>0.016811</td>\n",
       "      <td>50729.0</td>\n",
       "    </tr>\n",
       "    <tr>\n",
       "      <th>75</th>\n",
       "      <td>86</td>\n",
       "      <td>78266</td>\n",
       "      <td>1362</td>\n",
       "      <td>64</td>\n",
       "      <td>4604.316547</td>\n",
       "      <td>78266</td>\n",
       "      <td>0</td>\n",
       "      <td>0.000000</td>\n",
       "      <td>0.454406</td>\n",
       "      <td>0.002098</td>\n",
       "      <td>122957.0</td>\n",
       "    </tr>\n",
       "  </tbody>\n",
       "</table>\n",
       "<p>76 rows × 11 columns</p>\n",
       "</div>"
      ],
      "text/plain": [
       "    OBJECTID  ZIP_CODE  populationtotals_totpop_cy  Positive  CasesP100000  \\\n",
       "0          1     78002                        9061      1063  11816.362830   \n",
       "1          2     78006                        5243       278   4851.657941   \n",
       "2          4     78015                       12254       664   5167.315175   \n",
       "3          5     78023                       29569      1947   6588.163638   \n",
       "4          7     78052                         699        39   5555.555556   \n",
       "..       ...       ...                         ...       ...           ...   \n",
       "71        82     78260                       36255      2654   7180.735931   \n",
       "72        83     78261                       23828      1836   7514.427209   \n",
       "73        84     78263                        5228       428   8302.618817   \n",
       "74        85     78264                       13113      1439  10995.644530   \n",
       "75        86     78266                        1362        64   4604.316547   \n",
       "\n",
       "    ZipInt  ActiveCases  ActiveCaseRate  SHAPE_Length  SHAPE_Area  \\\n",
       "0    78002            6       66.696309      0.427542    0.009546   \n",
       "1    78006            3       52.356021      0.552725    0.005416   \n",
       "2    78015            7       54.474708      0.278955    0.002312   \n",
       "3    78023           15       50.756268      0.886455    0.017922   \n",
       "4    78052            3      427.350427      0.260085    0.001147   \n",
       "..     ...          ...             ...           ...         ...   \n",
       "71   78260           17       45.995671      0.407156    0.005818   \n",
       "72   78261           13       53.206729      0.474302    0.006743   \n",
       "73   78263            1       19.398642      0.680812    0.010405   \n",
       "74   78264           13       99.335218      0.726860    0.016811   \n",
       "75   78266            0        0.000000      0.454406    0.002098   \n",
       "\n",
       "    Median Household Income  \n",
       "0                   52598.0  \n",
       "1                   85813.0  \n",
       "2                  123182.0  \n",
       "3                  122967.0  \n",
       "4                   60880.0  \n",
       "..                      ...  \n",
       "71                 115500.0  \n",
       "72                  93853.0  \n",
       "73                  78897.0  \n",
       "74                  50729.0  \n",
       "75                 122957.0  \n",
       "\n",
       "[76 rows x 11 columns]"
      ]
     },
     "execution_count": 6,
     "metadata": {},
     "output_type": "execute_result"
    }
   ],
   "source": [
    "merge_df = pd.merge(bexar_df, census_pd, on=\"ZIP_CODE\", how=\"left\") # Notice how 'name' column is preserved and no missing data because it comes from the left df\n",
    "merge_df"
   ]
  },
  {
   "cell_type": "code",
   "execution_count": 7,
   "metadata": {},
   "outputs": [
    {
     "data": {
      "text/plain": [
       "OBJECTID                        int64\n",
       "ZIP_CODE                        int64\n",
       "populationtotals_totpop_cy      int64\n",
       "Positive                        int64\n",
       "CasesP100000                  float64\n",
       "ZipInt                          int64\n",
       "ActiveCases                     int64\n",
       "ActiveCaseRate                float64\n",
       "SHAPE_Length                  float64\n",
       "SHAPE_Area                    float64\n",
       "Median Household Income       float64\n",
       "dtype: object"
      ]
     },
     "execution_count": 7,
     "metadata": {},
     "output_type": "execute_result"
    }
   ],
   "source": [
    "merge_df.dtypes"
   ]
  },
  {
   "cell_type": "code",
   "execution_count": 8,
   "metadata": {},
   "outputs": [
    {
     "data": {
      "text/html": [
       "<div>\n",
       "<style scoped>\n",
       "    .dataframe tbody tr th:only-of-type {\n",
       "        vertical-align: middle;\n",
       "    }\n",
       "\n",
       "    .dataframe tbody tr th {\n",
       "        vertical-align: top;\n",
       "    }\n",
       "\n",
       "    .dataframe thead th {\n",
       "        text-align: right;\n",
       "    }\n",
       "</style>\n",
       "<table border=\"1\" class=\"dataframe\">\n",
       "  <thead>\n",
       "    <tr style=\"text-align: right;\">\n",
       "      <th></th>\n",
       "      <th>OBJECTID</th>\n",
       "      <th>ZIP_CODE</th>\n",
       "      <th>populationtotals_totpop_cy</th>\n",
       "      <th>Positive</th>\n",
       "      <th>CasesP100000</th>\n",
       "      <th>ZipInt</th>\n",
       "      <th>ActiveCases</th>\n",
       "      <th>ActiveCaseRate</th>\n",
       "      <th>SHAPE_Length</th>\n",
       "      <th>SHAPE_Area</th>\n",
       "      <th>Median Household Income</th>\n",
       "    </tr>\n",
       "  </thead>\n",
       "  <tbody>\n",
       "    <tr>\n",
       "      <th>66</th>\n",
       "      <td>77</td>\n",
       "      <td>78255</td>\n",
       "      <td>18495</td>\n",
       "      <td>1070</td>\n",
       "      <td>5794.119240</td>\n",
       "      <td>78255</td>\n",
       "      <td>10</td>\n",
       "      <td>54.150647</td>\n",
       "      <td>0.519312</td>\n",
       "      <td>0.003927</td>\n",
       "      <td>124397.0</td>\n",
       "    </tr>\n",
       "    <tr>\n",
       "      <th>2</th>\n",
       "      <td>4</td>\n",
       "      <td>78015</td>\n",
       "      <td>12254</td>\n",
       "      <td>664</td>\n",
       "      <td>5167.315175</td>\n",
       "      <td>78015</td>\n",
       "      <td>7</td>\n",
       "      <td>54.474708</td>\n",
       "      <td>0.278955</td>\n",
       "      <td>0.002312</td>\n",
       "      <td>123182.0</td>\n",
       "    </tr>\n",
       "    <tr>\n",
       "      <th>3</th>\n",
       "      <td>5</td>\n",
       "      <td>78023</td>\n",
       "      <td>29569</td>\n",
       "      <td>1947</td>\n",
       "      <td>6588.163638</td>\n",
       "      <td>78023</td>\n",
       "      <td>15</td>\n",
       "      <td>50.756268</td>\n",
       "      <td>0.886455</td>\n",
       "      <td>0.017922</td>\n",
       "      <td>122967.0</td>\n",
       "    </tr>\n",
       "    <tr>\n",
       "      <th>75</th>\n",
       "      <td>86</td>\n",
       "      <td>78266</td>\n",
       "      <td>1362</td>\n",
       "      <td>64</td>\n",
       "      <td>4604.316547</td>\n",
       "      <td>78266</td>\n",
       "      <td>0</td>\n",
       "      <td>0.000000</td>\n",
       "      <td>0.454406</td>\n",
       "      <td>0.002098</td>\n",
       "      <td>122957.0</td>\n",
       "    </tr>\n",
       "    <tr>\n",
       "      <th>59</th>\n",
       "      <td>70</td>\n",
       "      <td>78248</td>\n",
       "      <td>13934</td>\n",
       "      <td>876</td>\n",
       "      <td>6340.474812</td>\n",
       "      <td>78248</td>\n",
       "      <td>9</td>\n",
       "      <td>65.141864</td>\n",
       "      <td>0.166139</td>\n",
       "      <td>0.000964</td>\n",
       "      <td>119886.0</td>\n",
       "    </tr>\n",
       "    <tr>\n",
       "      <th>...</th>\n",
       "      <td>...</td>\n",
       "      <td>...</td>\n",
       "      <td>...</td>\n",
       "      <td>...</td>\n",
       "      <td>...</td>\n",
       "      <td>...</td>\n",
       "      <td>...</td>\n",
       "      <td>...</td>\n",
       "      <td>...</td>\n",
       "      <td>...</td>\n",
       "      <td>...</td>\n",
       "    </tr>\n",
       "    <tr>\n",
       "      <th>40</th>\n",
       "      <td>51</td>\n",
       "      <td>78226</td>\n",
       "      <td>6269</td>\n",
       "      <td>1014</td>\n",
       "      <td>16644.780040</td>\n",
       "      <td>78226</td>\n",
       "      <td>3</td>\n",
       "      <td>49.244911</td>\n",
       "      <td>0.219270</td>\n",
       "      <td>0.000926</td>\n",
       "      <td>30401.0</td>\n",
       "    </tr>\n",
       "    <tr>\n",
       "      <th>17</th>\n",
       "      <td>28</td>\n",
       "      <td>78202</td>\n",
       "      <td>12654</td>\n",
       "      <td>1254</td>\n",
       "      <td>9748.134328</td>\n",
       "      <td>78202</td>\n",
       "      <td>9</td>\n",
       "      <td>69.962687</td>\n",
       "      <td>0.125396</td>\n",
       "      <td>0.000596</td>\n",
       "      <td>28130.0</td>\n",
       "    </tr>\n",
       "    <tr>\n",
       "      <th>21</th>\n",
       "      <td>32</td>\n",
       "      <td>78207</td>\n",
       "      <td>58019</td>\n",
       "      <td>7172</td>\n",
       "      <td>12388.371650</td>\n",
       "      <td>78207</td>\n",
       "      <td>67</td>\n",
       "      <td>115.730745</td>\n",
       "      <td>0.200003</td>\n",
       "      <td>0.001818</td>\n",
       "      <td>27205.0</td>\n",
       "    </tr>\n",
       "    <tr>\n",
       "      <th>22</th>\n",
       "      <td>33</td>\n",
       "      <td>78208</td>\n",
       "      <td>5262</td>\n",
       "      <td>504</td>\n",
       "      <td>9155.313351</td>\n",
       "      <td>78208</td>\n",
       "      <td>1</td>\n",
       "      <td>18.165304</td>\n",
       "      <td>0.102265</td>\n",
       "      <td>0.000243</td>\n",
       "      <td>24455.0</td>\n",
       "    </tr>\n",
       "    <tr>\n",
       "      <th>13</th>\n",
       "      <td>22</td>\n",
       "      <td>78150</td>\n",
       "      <td>294</td>\n",
       "      <td>9</td>\n",
       "      <td>3169.014085</td>\n",
       "      <td>78150</td>\n",
       "      <td>0</td>\n",
       "      <td>0.000000</td>\n",
       "      <td>0.253048</td>\n",
       "      <td>0.000889</td>\n",
       "      <td>-666666666.0</td>\n",
       "    </tr>\n",
       "  </tbody>\n",
       "</table>\n",
       "<p>76 rows × 11 columns</p>\n",
       "</div>"
      ],
      "text/plain": [
       "    OBJECTID  ZIP_CODE  populationtotals_totpop_cy  Positive  CasesP100000  \\\n",
       "66        77     78255                       18495      1070   5794.119240   \n",
       "2          4     78015                       12254       664   5167.315175   \n",
       "3          5     78023                       29569      1947   6588.163638   \n",
       "75        86     78266                        1362        64   4604.316547   \n",
       "59        70     78248                       13934       876   6340.474812   \n",
       "..       ...       ...                         ...       ...           ...   \n",
       "40        51     78226                        6269      1014  16644.780040   \n",
       "17        28     78202                       12654      1254   9748.134328   \n",
       "21        32     78207                       58019      7172  12388.371650   \n",
       "22        33     78208                        5262       504   9155.313351   \n",
       "13        22     78150                         294         9   3169.014085   \n",
       "\n",
       "    ZipInt  ActiveCases  ActiveCaseRate  SHAPE_Length  SHAPE_Area  \\\n",
       "66   78255           10       54.150647      0.519312    0.003927   \n",
       "2    78015            7       54.474708      0.278955    0.002312   \n",
       "3    78023           15       50.756268      0.886455    0.017922   \n",
       "75   78266            0        0.000000      0.454406    0.002098   \n",
       "59   78248            9       65.141864      0.166139    0.000964   \n",
       "..     ...          ...             ...           ...         ...   \n",
       "40   78226            3       49.244911      0.219270    0.000926   \n",
       "17   78202            9       69.962687      0.125396    0.000596   \n",
       "21   78207           67      115.730745      0.200003    0.001818   \n",
       "22   78208            1       18.165304      0.102265    0.000243   \n",
       "13   78150            0        0.000000      0.253048    0.000889   \n",
       "\n",
       "    Median Household Income  \n",
       "66                 124397.0  \n",
       "2                  123182.0  \n",
       "3                  122967.0  \n",
       "75                 122957.0  \n",
       "59                 119886.0  \n",
       "..                      ...  \n",
       "40                  30401.0  \n",
       "17                  28130.0  \n",
       "21                  27205.0  \n",
       "22                  24455.0  \n",
       "13             -666666666.0  \n",
       "\n",
       "[76 rows x 11 columns]"
      ]
     },
     "execution_count": 8,
     "metadata": {},
     "output_type": "execute_result"
    }
   ],
   "source": [
    "merge_df.sort_values(by='Median Household Income', ascending=False)"
   ]
  },
  {
   "cell_type": "code",
   "execution_count": 9,
   "metadata": {},
   "outputs": [
    {
     "data": {
      "text/plain": [
       "-666666666.0"
      ]
     },
     "execution_count": 9,
     "metadata": {},
     "output_type": "execute_result"
    }
   ],
   "source": [
    "merge_df[\"Median Household Income\"].min()"
   ]
  },
  {
   "cell_type": "code",
   "execution_count": 10,
   "metadata": {},
   "outputs": [],
   "source": [
    "merge_df.drop([13], inplace = True)"
   ]
  },
  {
   "cell_type": "code",
   "execution_count": 11,
   "metadata": {},
   "outputs": [
    {
     "data": {
      "image/png": "[encoded data removed]",
      "text/plain": [
       "<Figure size 432x288 with 1 Axes>"
      ]
     },
     "metadata": {
      "needs_background": "light"
     },
     "output_type": "display_data"
    }
   ],
   "source": [
    "#Determine if there is a corrilation between median household income and positive cases. \n",
    "plt.scatter(merge_df.iloc[:,10],merge_df.iloc[:,3])\n",
    "plt.xlabel('Median Household Income')\n",
    "plt.ylabel('Positive')\n",
    "plt.show()\n"
   ]
  },
  {
   "cell_type": "code",
   "execution_count": 12,
   "metadata": {},
   "outputs": [],
   "source": [
    "def linear_agression(x,y):\n",
    "    print(f\"The r-squared is : {round(st.pearsonr(x, y)[0],2)}\")\n",
    "    (slope, intercept, rvalue, pvalue, stderr) = st.linregress(x, y)\n",
    "    regress_values = x * slope + intercept\n",
    "    line_eq = \"y = \" + str(round(slope,2)) + \"x + \" + str(round(intercept,2))\n",
    "    plt.scatter(x, y)\n",
    "    plt.plot(x,regress_values,\"r-\")\n",
    "    return line_eq\n",
    "\n",
    "# Define a fuction for annotating\n",
    "def annotate(line_eq, a, b):\n",
    "    plt.annotate(line_eq,(a,b),fontsize=15,color=\"red\")"
   ]
  },
  {
   "cell_type": "code",
   "execution_count": 13,
   "metadata": {},
   "outputs": [
    {
     "name": "stdout",
     "output_type": "stream",
     "text": [
      "The r-squared is : -0.27\n"
     ]
    },
    {
     "data": {
      "image/png": "[encoded data removed]",
      "text/plain": [
       "<Figure size 432x288 with 1 Axes>"
      ]
     },
     "metadata": {
      "needs_background": "light"
     },
     "output_type": "display_data"
    }
   ],
   "source": [
    "# Call an function #1\n",
    "equation = linear_agression(merge_df[\"Median Household Income\"], merge_df[\"Positive\"])\n",
    "\n",
    "# Call an function #2\n",
    "annotate(equation, 0, 0)\n",
    "\n",
    "# Set labels\n",
    "plt.title(\"Positivity vs. Income\")\n",
    "plt.xlabel(\"Income\")\n",
    "plt.ylabel(\"Positivity Rate\")\n",
    "\n",
    "plt.show()"
   ]
  },
  {
   "cell_type": "code",
   "execution_count": 14,
   "metadata": {},
   "outputs": [
    {
     "data": {
      "image/png": "[encoded data removed]",
      "text/plain": [
       "<Figure size 432x288 with 1 Axes>"
      ]
     },
     "metadata": {
      "needs_background": "light"
     },
     "output_type": "display_data"
    }
   ],
   "source": [
    "#Determine if there is a corrilation between zipcode population and positive cases. \n",
    "plt.scatter(merge_df.iloc[:,2],merge_df.iloc[:,3])\n",
    "plt.xlabel('Zipcode Population')\n",
    "plt.ylabel('Positive')\n",
    "plt.show()"
   ]
  },
  {
   "cell_type": "code",
   "execution_count": 15,
   "metadata": {},
   "outputs": [
    {
     "data": {
      "text/plain": [
       "Text(0, 0.5, 'Positivity')"
      ]
     },
     "execution_count": 15,
     "metadata": {},
     "output_type": "execute_result"
    },
    {
     "data": {
      "image/png": "[encoded data removed]",
      "text/plain": [
       "<Figure size 432x288 with 1 Axes>"
      ]
     },
     "metadata": {
      "needs_background": "light"
     },
     "output_type": "display_data"
    }
   ],
   "source": [
    "drug_data = merge_df.groupby('ZIP_CODE')\n",
    "drug_counts = drug_data['ZIP_CODE'].count()\n",
    "drug_chart = drug_counts.plot(kind='bar')\n",
    "drug_chart.set_xlabel(\"Drug\")\n",
    "drug_chart.set_ylabel(\"Positivity\")"
   ]
  },
  {
   "cell_type": "code",
   "execution_count": 16,
   "metadata": {},
   "outputs": [
    {
     "data": {
      "image/png": "[encoded data removed]",
      "text/plain": [
       "<Figure size 864x576 with 1 Axes>"
      ]
     },
     "metadata": {
      "needs_background": "light"
     },
     "output_type": "display_data"
    }
   ],
   "source": [
    "income =[\"Median Household Income\"]\n",
    "for element in income:\n",
    "    merge_df.plot.scatter(element,\"CasesP100000\", figsize = (12,8),title=f'Correlation Between {element} and Cases Per 100000')\n",
    "    correlation = st.pearsonr(merge_df[element],merge_df[\"CasesP100000\"])\n",
    "    plt.annotate(correlation[0],xy=(0,0.95),fontsize = 18,xycoords='axes fraction')"
   ]
  },
  {
   "cell_type": "code",
   "execution_count": 17,
   "metadata": {},
   "outputs": [
    {
     "data": {
      "image/png": "[encoded data removed]",
      "text/plain": [
       "<Figure size 864x576 with 1 Axes>"
      ]
     },
     "metadata": {
      "needs_background": "light"
     },
     "output_type": "display_data"
    }
   ],
   "source": [
    "income =[\"Median Household Income\"]\n",
    "for element in income:\n",
    "    merge_df.plot.scatter(element,\"Positive\", figsize = (12,8),title=f'Correlation Between {element} and Positive')\n",
    "    correlation = st.pearsonr(merge_df[element],merge_df[\"Positive\"])\n",
    "    plt.annotate(correlation[0],xy=(0,0.95),fontsize = 18,xycoords='axes fraction')"
   ]
  },
  {
   "cell_type": "code",
   "execution_count": 21,
   "metadata": {},
   "outputs": [
    {
     "data": {
      "text/plain": [
       "['78002',\n",
       " '78052',\n",
       " '78069',\n",
       " '78073',\n",
       " '78112',\n",
       " '78201',\n",
       " '78002',\n",
       " '78203',\n",
       " '78204',\n",
       " '78207',\n",
       " '78208',\n",
       " '78210',\n",
       " '78211',\n",
       " '78212',\n",
       " '78213',\n",
       " '78214',\n",
       " '78216',\n",
       " '78218',\n",
       " '78221',\n",
       " '78222',\n",
       " '78223',\n",
       " '78224',\n",
       " '78225',\n",
       " '78226',\n",
       " '78227',\n",
       " '78228',\n",
       " '78229',\n",
       " '78235',\n",
       " '78237',\n",
       " '78238',\n",
       " '78242',\n",
       " '78244',\n",
       " '78245',\n",
       " '78250',\n",
       " '78251',\n",
       " '78252',\n",
       " '78254',\n",
       " '78264']"
      ]
     },
     "execution_count": 21,
     "metadata": {},
     "output_type": "execute_result"
    }
   ],
   "source": [
    "maj_hispanic = [\"78002\", \"78052\", \"78069\", \"78073\", \"78112\", \"78201\", \"78002\", \"78203\", \"78204\", \"78207\", \"78208\", \"78210\", \"78211\", \"78212\", \"78213\",\n",
    "                                  \"78214\", \"78216\", \"78218\", \"78221\", \"78222\", \"78223\", \"78224\", \"78225\", \"78226\", \"78227\", \"78228\", \"78229\", \"78235\", \"78237\",\n",
    "                                  \"78238\", \"78242\", \"78244\", \"78245\", \"78250\", \"78251\", \"78252\", \"78254\", \"78264\"]\n",
    "maj_hispanic"
   ]
  },
  {
   "cell_type": "code",
   "execution_count": 20,
   "metadata": {},
   "outputs": [
    {
     "ename": "KeyError",
     "evalue": "'78002'",
     "output_type": "error",
     "traceback": [
      "\u001b[1;31m---------------------------------------------------------------------------\u001b[0m",
      "\u001b[1;31mKeyError\u001b[0m                                  Traceback (most recent call last)",
      "\u001b[1;32m~\\anaconda3\\lib\\site-packages\\pandas\\core\\indexes\\base.py\u001b[0m in \u001b[0;36mget_loc\u001b[1;34m(self, key, method, tolerance)\u001b[0m\n\u001b[0;32m   2894\u001b[0m             \u001b[1;32mtry\u001b[0m\u001b[1;33m:\u001b[0m\u001b[1;33m\u001b[0m\u001b[1;33m\u001b[0m\u001b[0m\n\u001b[1;32m-> 2895\u001b[1;33m                 \u001b[1;32mreturn\u001b[0m \u001b[0mself\u001b[0m\u001b[1;33m.\u001b[0m\u001b[0m_engine\u001b[0m\u001b[1;33m.\u001b[0m\u001b[0mget_loc\u001b[0m\u001b[1;33m(\u001b[0m\u001b[0mcasted_key\u001b[0m\u001b[1;33m)\u001b[0m\u001b[1;33m\u001b[0m\u001b[1;33m\u001b[0m\u001b[0m\n\u001b[0m\u001b[0;32m   2896\u001b[0m             \u001b[1;32mexcept\u001b[0m \u001b[0mKeyError\u001b[0m \u001b[1;32mas\u001b[0m \u001b[0merr\u001b[0m\u001b[1;33m:\u001b[0m\u001b[1;33m\u001b[0m\u001b[1;33m\u001b[0m\u001b[0m\n",
      "\u001b[1;32mpandas\\_libs\\index.pyx\u001b[0m in \u001b[0;36mpandas._libs.index.IndexEngine.get_loc\u001b[1;34m()\u001b[0m\n",
      "\u001b[1;32mpandas\\_libs\\index.pyx\u001b[0m in \u001b[0;36mpandas._libs.index.IndexEngine.get_loc\u001b[1;34m()\u001b[0m\n",
      "\u001b[1;32mpandas\\_libs\\hashtable_class_helper.pxi\u001b[0m in \u001b[0;36mpandas._libs.hashtable.PyObjectHashTable.get_item\u001b[1;34m()\u001b[0m\n",
      "\u001b[1;32mpandas\\_libs\\hashtable_class_helper.pxi\u001b[0m in \u001b[0;36mpandas._libs.hashtable.PyObjectHashTable.get_item\u001b[1;34m()\u001b[0m\n",
      "\u001b[1;31mKeyError\u001b[0m: '78002'",
      "\nThe above exception was the direct cause of the following exception:\n",
      "\u001b[1;31mKeyError\u001b[0m                                  Traceback (most recent call last)",
      "\u001b[1;32m<ipython-input-20-0d1e2cc1506c>\u001b[0m in \u001b[0;36m<module>\u001b[1;34m\u001b[0m\n\u001b[0;32m      3\u001b[0m                                   \"78238\", \"78242\", \"78244\", \"78245\", \"78250\", \"78251\", \"78252\", \"78254\", \"78264\"]\n\u001b[0;32m      4\u001b[0m \u001b[1;32mfor\u001b[0m \u001b[0melement\u001b[0m \u001b[1;32min\u001b[0m \u001b[0mzip_list\u001b[0m\u001b[1;33m:\u001b[0m\u001b[1;33m\u001b[0m\u001b[1;33m\u001b[0m\u001b[0m\n\u001b[1;32m----> 5\u001b[1;33m     \u001b[0mmerge_df\u001b[0m\u001b[1;33m.\u001b[0m\u001b[0mplot\u001b[0m\u001b[1;33m.\u001b[0m\u001b[0mscatter\u001b[0m\u001b[1;33m(\u001b[0m\u001b[0melement\u001b[0m\u001b[1;33m,\u001b[0m\u001b[1;34m\"Positive\"\u001b[0m\u001b[1;33m,\u001b[0m \u001b[0mfigsize\u001b[0m \u001b[1;33m=\u001b[0m \u001b[1;33m(\u001b[0m\u001b[1;36m12\u001b[0m\u001b[1;33m,\u001b[0m\u001b[1;36m8\u001b[0m\u001b[1;33m)\u001b[0m\u001b[1;33m,\u001b[0m\u001b[0mtitle\u001b[0m\u001b[1;33m=\u001b[0m\u001b[1;34mf'Correlation Between {element} and Cases Per 100000'\u001b[0m\u001b[1;33m)\u001b[0m\u001b[1;33m\u001b[0m\u001b[1;33m\u001b[0m\u001b[0m\n\u001b[0m\u001b[0;32m      6\u001b[0m     \u001b[0mcorrelation\u001b[0m \u001b[1;33m=\u001b[0m \u001b[0mst\u001b[0m\u001b[1;33m.\u001b[0m\u001b[0mpearsonr\u001b[0m\u001b[1;33m(\u001b[0m\u001b[0mmerge_df\u001b[0m\u001b[1;33m[\u001b[0m\u001b[0melement\u001b[0m\u001b[1;33m]\u001b[0m\u001b[1;33m,\u001b[0m\u001b[0mmerge_df\u001b[0m\u001b[1;33m[\u001b[0m\u001b[1;34m\"Positive\"\u001b[0m\u001b[1;33m]\u001b[0m\u001b[1;33m)\u001b[0m\u001b[1;33m\u001b[0m\u001b[1;33m\u001b[0m\u001b[0m\n\u001b[0;32m      7\u001b[0m     \u001b[0mplt\u001b[0m\u001b[1;33m.\u001b[0m\u001b[0mannotate\u001b[0m\u001b[1;33m(\u001b[0m\u001b[0mcorrelation\u001b[0m\u001b[1;33m[\u001b[0m\u001b[1;36m0\u001b[0m\u001b[1;33m]\u001b[0m\u001b[1;33m,\u001b[0m\u001b[0mxy\u001b[0m\u001b[1;33m=\u001b[0m\u001b[1;33m(\u001b[0m\u001b[1;36m0\u001b[0m\u001b[1;33m,\u001b[0m\u001b[1;36m0.95\u001b[0m\u001b[1;33m)\u001b[0m\u001b[1;33m,\u001b[0m\u001b[0mfontsize\u001b[0m \u001b[1;33m=\u001b[0m \u001b[1;36m18\u001b[0m\u001b[1;33m,\u001b[0m\u001b[0mxycoords\u001b[0m\u001b[1;33m=\u001b[0m\u001b[1;34m'axes fraction'\u001b[0m\u001b[1;33m)\u001b[0m\u001b[1;33m\u001b[0m\u001b[1;33m\u001b[0m\u001b[0m\n",
      "\u001b[1;32m~\\anaconda3\\lib\\site-packages\\pandas\\plotting\\_core.py\u001b[0m in \u001b[0;36mscatter\u001b[1;34m(self, x, y, s, c, **kwargs)\u001b[0m\n\u001b[0;32m   1611\u001b[0m             ...                       colormap='viridis')\n\u001b[0;32m   1612\u001b[0m         \"\"\"\n\u001b[1;32m-> 1613\u001b[1;33m         \u001b[1;32mreturn\u001b[0m \u001b[0mself\u001b[0m\u001b[1;33m(\u001b[0m\u001b[0mkind\u001b[0m\u001b[1;33m=\u001b[0m\u001b[1;34m\"scatter\"\u001b[0m\u001b[1;33m,\u001b[0m \u001b[0mx\u001b[0m\u001b[1;33m=\u001b[0m\u001b[0mx\u001b[0m\u001b[1;33m,\u001b[0m \u001b[0my\u001b[0m\u001b[1;33m=\u001b[0m\u001b[0my\u001b[0m\u001b[1;33m,\u001b[0m \u001b[0ms\u001b[0m\u001b[1;33m=\u001b[0m\u001b[0ms\u001b[0m\u001b[1;33m,\u001b[0m \u001b[0mc\u001b[0m\u001b[1;33m=\u001b[0m\u001b[0mc\u001b[0m\u001b[1;33m,\u001b[0m \u001b[1;33m**\u001b[0m\u001b[0mkwargs\u001b[0m\u001b[1;33m)\u001b[0m\u001b[1;33m\u001b[0m\u001b[1;33m\u001b[0m\u001b[0m\n\u001b[0m\u001b[0;32m   1614\u001b[0m \u001b[1;33m\u001b[0m\u001b[0m\n\u001b[0;32m   1615\u001b[0m     \u001b[1;32mdef\u001b[0m \u001b[0mhexbin\u001b[0m\u001b[1;33m(\u001b[0m\u001b[0mself\u001b[0m\u001b[1;33m,\u001b[0m \u001b[0mx\u001b[0m\u001b[1;33m,\u001b[0m \u001b[0my\u001b[0m\u001b[1;33m,\u001b[0m \u001b[0mC\u001b[0m\u001b[1;33m=\u001b[0m\u001b[1;32mNone\u001b[0m\u001b[1;33m,\u001b[0m \u001b[0mreduce_C_function\u001b[0m\u001b[1;33m=\u001b[0m\u001b[1;32mNone\u001b[0m\u001b[1;33m,\u001b[0m \u001b[0mgridsize\u001b[0m\u001b[1;33m=\u001b[0m\u001b[1;32mNone\u001b[0m\u001b[1;33m,\u001b[0m \u001b[1;33m**\u001b[0m\u001b[0mkwargs\u001b[0m\u001b[1;33m)\u001b[0m\u001b[1;33m:\u001b[0m\u001b[1;33m\u001b[0m\u001b[1;33m\u001b[0m\u001b[0m\n",
      "\u001b[1;32m~\\anaconda3\\lib\\site-packages\\pandas\\plotting\\_core.py\u001b[0m in \u001b[0;36m__call__\u001b[1;34m(self, *args, **kwargs)\u001b[0m\n\u001b[0;32m    892\u001b[0m         \u001b[1;32mif\u001b[0m \u001b[0mkind\u001b[0m \u001b[1;32min\u001b[0m \u001b[0mself\u001b[0m\u001b[1;33m.\u001b[0m\u001b[0m_dataframe_kinds\u001b[0m\u001b[1;33m:\u001b[0m\u001b[1;33m\u001b[0m\u001b[1;33m\u001b[0m\u001b[0m\n\u001b[0;32m    893\u001b[0m             \u001b[1;32mif\u001b[0m \u001b[0misinstance\u001b[0m\u001b[1;33m(\u001b[0m\u001b[0mdata\u001b[0m\u001b[1;33m,\u001b[0m \u001b[0mABCDataFrame\u001b[0m\u001b[1;33m)\u001b[0m\u001b[1;33m:\u001b[0m\u001b[1;33m\u001b[0m\u001b[1;33m\u001b[0m\u001b[0m\n\u001b[1;32m--> 894\u001b[1;33m                 \u001b[1;32mreturn\u001b[0m \u001b[0mplot_backend\u001b[0m\u001b[1;33m.\u001b[0m\u001b[0mplot\u001b[0m\u001b[1;33m(\u001b[0m\u001b[0mdata\u001b[0m\u001b[1;33m,\u001b[0m \u001b[0mx\u001b[0m\u001b[1;33m=\u001b[0m\u001b[0mx\u001b[0m\u001b[1;33m,\u001b[0m \u001b[0my\u001b[0m\u001b[1;33m=\u001b[0m\u001b[0my\u001b[0m\u001b[1;33m,\u001b[0m \u001b[0mkind\u001b[0m\u001b[1;33m=\u001b[0m\u001b[0mkind\u001b[0m\u001b[1;33m,\u001b[0m \u001b[1;33m**\u001b[0m\u001b[0mkwargs\u001b[0m\u001b[1;33m)\u001b[0m\u001b[1;33m\u001b[0m\u001b[1;33m\u001b[0m\u001b[0m\n\u001b[0m\u001b[0;32m    895\u001b[0m             \u001b[1;32melse\u001b[0m\u001b[1;33m:\u001b[0m\u001b[1;33m\u001b[0m\u001b[1;33m\u001b[0m\u001b[0m\n\u001b[0;32m    896\u001b[0m                 \u001b[1;32mraise\u001b[0m \u001b[0mValueError\u001b[0m\u001b[1;33m(\u001b[0m\u001b[1;34mf\"plot kind {kind} can only be used for data frames\"\u001b[0m\u001b[1;33m)\u001b[0m\u001b[1;33m\u001b[0m\u001b[1;33m\u001b[0m\u001b[0m\n",
      "\u001b[1;32m~\\anaconda3\\lib\\site-packages\\pandas\\plotting\\_matplotlib\\__init__.py\u001b[0m in \u001b[0;36mplot\u001b[1;34m(data, kind, **kwargs)\u001b[0m\n\u001b[0;32m     59\u001b[0m             \u001b[0mkwargs\u001b[0m\u001b[1;33m[\u001b[0m\u001b[1;34m\"ax\"\u001b[0m\u001b[1;33m]\u001b[0m \u001b[1;33m=\u001b[0m \u001b[0mgetattr\u001b[0m\u001b[1;33m(\u001b[0m\u001b[0max\u001b[0m\u001b[1;33m,\u001b[0m \u001b[1;34m\"left_ax\"\u001b[0m\u001b[1;33m,\u001b[0m \u001b[0max\u001b[0m\u001b[1;33m)\u001b[0m\u001b[1;33m\u001b[0m\u001b[1;33m\u001b[0m\u001b[0m\n\u001b[0;32m     60\u001b[0m     \u001b[0mplot_obj\u001b[0m \u001b[1;33m=\u001b[0m \u001b[0mPLOT_CLASSES\u001b[0m\u001b[1;33m[\u001b[0m\u001b[0mkind\u001b[0m\u001b[1;33m]\u001b[0m\u001b[1;33m(\u001b[0m\u001b[0mdata\u001b[0m\u001b[1;33m,\u001b[0m \u001b[1;33m**\u001b[0m\u001b[0mkwargs\u001b[0m\u001b[1;33m)\u001b[0m\u001b[1;33m\u001b[0m\u001b[1;33m\u001b[0m\u001b[0m\n\u001b[1;32m---> 61\u001b[1;33m     \u001b[0mplot_obj\u001b[0m\u001b[1;33m.\u001b[0m\u001b[0mgenerate\u001b[0m\u001b[1;33m(\u001b[0m\u001b[1;33m)\u001b[0m\u001b[1;33m\u001b[0m\u001b[1;33m\u001b[0m\u001b[0m\n\u001b[0m\u001b[0;32m     62\u001b[0m     \u001b[0mplot_obj\u001b[0m\u001b[1;33m.\u001b[0m\u001b[0mdraw\u001b[0m\u001b[1;33m(\u001b[0m\u001b[1;33m)\u001b[0m\u001b[1;33m\u001b[0m\u001b[1;33m\u001b[0m\u001b[0m\n\u001b[0;32m     63\u001b[0m     \u001b[1;32mreturn\u001b[0m \u001b[0mplot_obj\u001b[0m\u001b[1;33m.\u001b[0m\u001b[0mresult\u001b[0m\u001b[1;33m\u001b[0m\u001b[1;33m\u001b[0m\u001b[0m\n",
      "\u001b[1;32m~\\anaconda3\\lib\\site-packages\\pandas\\plotting\\_matplotlib\\core.py\u001b[0m in \u001b[0;36mgenerate\u001b[1;34m(self)\u001b[0m\n\u001b[0;32m    269\u001b[0m         \u001b[0mself\u001b[0m\u001b[1;33m.\u001b[0m\u001b[0m_compute_plot_data\u001b[0m\u001b[1;33m(\u001b[0m\u001b[1;33m)\u001b[0m\u001b[1;33m\u001b[0m\u001b[1;33m\u001b[0m\u001b[0m\n\u001b[0;32m    270\u001b[0m         \u001b[0mself\u001b[0m\u001b[1;33m.\u001b[0m\u001b[0m_setup_subplots\u001b[0m\u001b[1;33m(\u001b[0m\u001b[1;33m)\u001b[0m\u001b[1;33m\u001b[0m\u001b[1;33m\u001b[0m\u001b[0m\n\u001b[1;32m--> 271\u001b[1;33m         \u001b[0mself\u001b[0m\u001b[1;33m.\u001b[0m\u001b[0m_make_plot\u001b[0m\u001b[1;33m(\u001b[0m\u001b[1;33m)\u001b[0m\u001b[1;33m\u001b[0m\u001b[1;33m\u001b[0m\u001b[0m\n\u001b[0m\u001b[0;32m    272\u001b[0m         \u001b[0mself\u001b[0m\u001b[1;33m.\u001b[0m\u001b[0m_add_table\u001b[0m\u001b[1;33m(\u001b[0m\u001b[1;33m)\u001b[0m\u001b[1;33m\u001b[0m\u001b[1;33m\u001b[0m\u001b[0m\n\u001b[0;32m    273\u001b[0m         \u001b[0mself\u001b[0m\u001b[1;33m.\u001b[0m\u001b[0m_make_legend\u001b[0m\u001b[1;33m(\u001b[0m\u001b[1;33m)\u001b[0m\u001b[1;33m\u001b[0m\u001b[1;33m\u001b[0m\u001b[0m\n",
      "\u001b[1;32m~\\anaconda3\\lib\\site-packages\\pandas\\plotting\\_matplotlib\\core.py\u001b[0m in \u001b[0;36m_make_plot\u001b[1;34m(self)\u001b[0m\n\u001b[0;32m   1009\u001b[0m             \u001b[0mlabel\u001b[0m \u001b[1;33m=\u001b[0m \u001b[1;32mNone\u001b[0m\u001b[1;33m\u001b[0m\u001b[1;33m\u001b[0m\u001b[0m\n\u001b[0;32m   1010\u001b[0m         scatter = ax.scatter(\n\u001b[1;32m-> 1011\u001b[1;33m             \u001b[0mdata\u001b[0m\u001b[1;33m[\u001b[0m\u001b[0mx\u001b[0m\u001b[1;33m]\u001b[0m\u001b[1;33m.\u001b[0m\u001b[0mvalues\u001b[0m\u001b[1;33m,\u001b[0m\u001b[1;33m\u001b[0m\u001b[1;33m\u001b[0m\u001b[0m\n\u001b[0m\u001b[0;32m   1012\u001b[0m             \u001b[0mdata\u001b[0m\u001b[1;33m[\u001b[0m\u001b[0my\u001b[0m\u001b[1;33m]\u001b[0m\u001b[1;33m.\u001b[0m\u001b[0mvalues\u001b[0m\u001b[1;33m,\u001b[0m\u001b[1;33m\u001b[0m\u001b[1;33m\u001b[0m\u001b[0m\n\u001b[0;32m   1013\u001b[0m             \u001b[0mc\u001b[0m\u001b[1;33m=\u001b[0m\u001b[0mc_values\u001b[0m\u001b[1;33m,\u001b[0m\u001b[1;33m\u001b[0m\u001b[1;33m\u001b[0m\u001b[0m\n",
      "\u001b[1;32m~\\anaconda3\\lib\\site-packages\\pandas\\core\\frame.py\u001b[0m in \u001b[0;36m__getitem__\u001b[1;34m(self, key)\u001b[0m\n\u001b[0;32m   2900\u001b[0m             \u001b[1;32mif\u001b[0m \u001b[0mself\u001b[0m\u001b[1;33m.\u001b[0m\u001b[0mcolumns\u001b[0m\u001b[1;33m.\u001b[0m\u001b[0mnlevels\u001b[0m \u001b[1;33m>\u001b[0m \u001b[1;36m1\u001b[0m\u001b[1;33m:\u001b[0m\u001b[1;33m\u001b[0m\u001b[1;33m\u001b[0m\u001b[0m\n\u001b[0;32m   2901\u001b[0m                 \u001b[1;32mreturn\u001b[0m \u001b[0mself\u001b[0m\u001b[1;33m.\u001b[0m\u001b[0m_getitem_multilevel\u001b[0m\u001b[1;33m(\u001b[0m\u001b[0mkey\u001b[0m\u001b[1;33m)\u001b[0m\u001b[1;33m\u001b[0m\u001b[1;33m\u001b[0m\u001b[0m\n\u001b[1;32m-> 2902\u001b[1;33m             \u001b[0mindexer\u001b[0m \u001b[1;33m=\u001b[0m \u001b[0mself\u001b[0m\u001b[1;33m.\u001b[0m\u001b[0mcolumns\u001b[0m\u001b[1;33m.\u001b[0m\u001b[0mget_loc\u001b[0m\u001b[1;33m(\u001b[0m\u001b[0mkey\u001b[0m\u001b[1;33m)\u001b[0m\u001b[1;33m\u001b[0m\u001b[1;33m\u001b[0m\u001b[0m\n\u001b[0m\u001b[0;32m   2903\u001b[0m             \u001b[1;32mif\u001b[0m \u001b[0mis_integer\u001b[0m\u001b[1;33m(\u001b[0m\u001b[0mindexer\u001b[0m\u001b[1;33m)\u001b[0m\u001b[1;33m:\u001b[0m\u001b[1;33m\u001b[0m\u001b[1;33m\u001b[0m\u001b[0m\n\u001b[0;32m   2904\u001b[0m                 \u001b[0mindexer\u001b[0m \u001b[1;33m=\u001b[0m \u001b[1;33m[\u001b[0m\u001b[0mindexer\u001b[0m\u001b[1;33m]\u001b[0m\u001b[1;33m\u001b[0m\u001b[1;33m\u001b[0m\u001b[0m\n",
      "\u001b[1;32m~\\anaconda3\\lib\\site-packages\\pandas\\core\\indexes\\base.py\u001b[0m in \u001b[0;36mget_loc\u001b[1;34m(self, key, method, tolerance)\u001b[0m\n\u001b[0;32m   2895\u001b[0m                 \u001b[1;32mreturn\u001b[0m \u001b[0mself\u001b[0m\u001b[1;33m.\u001b[0m\u001b[0m_engine\u001b[0m\u001b[1;33m.\u001b[0m\u001b[0mget_loc\u001b[0m\u001b[1;33m(\u001b[0m\u001b[0mcasted_key\u001b[0m\u001b[1;33m)\u001b[0m\u001b[1;33m\u001b[0m\u001b[1;33m\u001b[0m\u001b[0m\n\u001b[0;32m   2896\u001b[0m             \u001b[1;32mexcept\u001b[0m \u001b[0mKeyError\u001b[0m \u001b[1;32mas\u001b[0m \u001b[0merr\u001b[0m\u001b[1;33m:\u001b[0m\u001b[1;33m\u001b[0m\u001b[1;33m\u001b[0m\u001b[0m\n\u001b[1;32m-> 2897\u001b[1;33m                 \u001b[1;32mraise\u001b[0m \u001b[0mKeyError\u001b[0m\u001b[1;33m(\u001b[0m\u001b[0mkey\u001b[0m\u001b[1;33m)\u001b[0m \u001b[1;32mfrom\u001b[0m \u001b[0merr\u001b[0m\u001b[1;33m\u001b[0m\u001b[1;33m\u001b[0m\u001b[0m\n\u001b[0m\u001b[0;32m   2898\u001b[0m \u001b[1;33m\u001b[0m\u001b[0m\n\u001b[0;32m   2899\u001b[0m         \u001b[1;32mif\u001b[0m \u001b[0mtolerance\u001b[0m \u001b[1;32mis\u001b[0m \u001b[1;32mnot\u001b[0m \u001b[1;32mNone\u001b[0m\u001b[1;33m:\u001b[0m\u001b[1;33m\u001b[0m\u001b[1;33m\u001b[0m\u001b[0m\n",
      "\u001b[1;31mKeyError\u001b[0m: '78002'"
     ]
    },
    {
     "data": {
      "image/png": "[encoded data removed]",
      "text/plain": [
       "<Figure size 864x576 with 1 Axes>"
      ]
     },
     "metadata": {
      "needs_background": "light"
     },
     "output_type": "display_data"
    }
   ],
   "source": [
    "zip_list =[ \"78002\", \"78052\", \"78069\", \"78073\", \"78112\", \"78201\", \"78002\", \"78203\", \"78204\", \"78207\", \"78208\", \"78210\", \"78211\", \"78212\", \"78213\",\n",
    "                                  \"78214\", \"78216\", \"78218\", \"78221\", \"78222\", \"78223\", \"78224\", \"78225\", \"78226\", \"78227\", \"78228\", \"78229\", \"78235\", \"78237\",\n",
    "                                  \"78238\", \"78242\", \"78244\", \"78245\", \"78250\", \"78251\", \"78252\", \"78254\", \"78264\"]\n",
    "for element in zip_list:\n",
    "    merge_df.plot.scatter(element,\"Positive\", figsize = (12,8),title=f'Correlation Between {element} and Cases Per 100000')\n",
    "    correlation = st.pearsonr(merge_df[element],merge_df[\"Positive\"])\n",
    "    plt.annotate(correlation[0],xy=(0,0.95),fontsize = 18,xycoords='axes fraction')\n"
   ]
  },
  {
   "cell_type": "code",
   "execution_count": null,
   "metadata": {},
   "outputs": [],
   "source": []
  }
 ],
 "metadata": {
  "kernelspec": {
   "display_name": "Python 3",
   "language": "python",
   "name": "python3"
  },
  "language_info": {
   "codemirror_mode": {
    "name": "ipython",
    "version": 3
   },
   "file_extension": ".py",
   "mimetype": "text/x-python",
   "name": "python",
   "nbconvert_exporter": "python",
   "pygments_lexer": "ipython3",
   "version": "3.8.5"
  }
 },
 "nbformat": 4,
 "nbformat_minor": 4
}
